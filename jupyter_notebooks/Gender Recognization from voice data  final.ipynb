{
 "cells": [
  {
   "cell_type": "markdown",
   "id": "4719ef40",
   "metadata": {},
   "source": [
    "# Data visualisation and manipulation"
   ]
  },
  {
   "cell_type": "code",
   "execution_count": 1,
   "id": "4da29aff",
   "metadata": {},
   "outputs": [],
   "source": [
    "import numpy as np\n",
    "import pandas as pd\n",
    "import matplotlib.pyplot as plt\n",
    "from matplotlib import style\n",
    "import seaborn as sns\n",
    "import missingno as msno\n",
    "from sklearn.preprocessing import LabelEncoder"
   ]
  },
  {
   "cell_type": "code",
   "execution_count": 2,
   "id": "42e9f2fe",
   "metadata": {},
   "outputs": [],
   "source": [
    "# Ignore  the warnings\n",
    "import warnings\n",
    "warnings.filterwarnings('always')\n",
    "warnings.filterwarnings('ignore')"
   ]
  },
  {
   "cell_type": "code",
   "execution_count": 3,
   "id": "b2441702",
   "metadata": {
    "scrolled": false
   },
   "outputs": [
    {
     "name": "stdout",
     "output_type": "stream",
     "text": [
      "(7942, 112)\n"
     ]
    },
    {
     "data": {
      "text/html": [
       "<div>\n",
       "<style scoped>\n",
       "    .dataframe tbody tr th:only-of-type {\n",
       "        vertical-align: middle;\n",
       "    }\n",
       "\n",
       "    .dataframe tbody tr th {\n",
       "        vertical-align: top;\n",
       "    }\n",
       "\n",
       "    .dataframe thead th {\n",
       "        text-align: right;\n",
       "    }\n",
       "</style>\n",
       "<table border=\"1\" class=\"dataframe\">\n",
       "  <thead>\n",
       "    <tr style=\"text-align: right;\">\n",
       "      <th></th>\n",
       "      <th>pitch</th>\n",
       "      <th>mfcc1</th>\n",
       "      <th>mfcc2</th>\n",
       "      <th>mfcc3</th>\n",
       "      <th>mfcc4</th>\n",
       "      <th>mfcc5</th>\n",
       "      <th>mfcc6</th>\n",
       "      <th>mfcc7</th>\n",
       "      <th>mfcc8</th>\n",
       "      <th>mfcc9</th>\n",
       "      <th>...</th>\n",
       "      <th>mfcc102</th>\n",
       "      <th>mfcc103</th>\n",
       "      <th>mfcc104</th>\n",
       "      <th>mfcc105</th>\n",
       "      <th>mfcc106</th>\n",
       "      <th>mfcc107</th>\n",
       "      <th>mfcc108</th>\n",
       "      <th>mfcc109</th>\n",
       "      <th>mfcc110</th>\n",
       "      <th>label</th>\n",
       "    </tr>\n",
       "  </thead>\n",
       "  <tbody>\n",
       "    <tr>\n",
       "      <th>0</th>\n",
       "      <td>111.888112</td>\n",
       "      <td>-510.597784</td>\n",
       "      <td>-505.053398</td>\n",
       "      <td>-499.959595</td>\n",
       "      <td>-178.190516</td>\n",
       "      <td>-148.948786</td>\n",
       "      <td>-134.754572</td>\n",
       "      <td>-95.023028</td>\n",
       "      <td>-217.987904</td>\n",
       "      <td>-182.906212</td>\n",
       "      <td>...</td>\n",
       "      <td>7.870008</td>\n",
       "      <td>6.556117</td>\n",
       "      <td>1.736444</td>\n",
       "      <td>-2.775575</td>\n",
       "      <td>8.263644</td>\n",
       "      <td>6.838414</td>\n",
       "      <td>-5.706881</td>\n",
       "      <td>-6.487910</td>\n",
       "      <td>2.364354</td>\n",
       "      <td>male</td>\n",
       "    </tr>\n",
       "    <tr>\n",
       "      <th>1</th>\n",
       "      <td>53.511706</td>\n",
       "      <td>-505.605406</td>\n",
       "      <td>-486.197290</td>\n",
       "      <td>-499.395205</td>\n",
       "      <td>-120.378805</td>\n",
       "      <td>-180.395347</td>\n",
       "      <td>-143.305227</td>\n",
       "      <td>-169.727007</td>\n",
       "      <td>-141.744821</td>\n",
       "      <td>-175.630594</td>\n",
       "      <td>...</td>\n",
       "      <td>5.915203</td>\n",
       "      <td>-8.883986</td>\n",
       "      <td>-7.964084</td>\n",
       "      <td>-3.190612</td>\n",
       "      <td>-3.025079</td>\n",
       "      <td>2.058585</td>\n",
       "      <td>20.512130</td>\n",
       "      <td>12.873238</td>\n",
       "      <td>16.508414</td>\n",
       "      <td>male</td>\n",
       "    </tr>\n",
       "    <tr>\n",
       "      <th>2</th>\n",
       "      <td>125.000000</td>\n",
       "      <td>-437.255700</td>\n",
       "      <td>-441.068030</td>\n",
       "      <td>-190.264004</td>\n",
       "      <td>-160.938226</td>\n",
       "      <td>-161.990960</td>\n",
       "      <td>-92.527338</td>\n",
       "      <td>-248.596371</td>\n",
       "      <td>-130.640863</td>\n",
       "      <td>-149.144037</td>\n",
       "      <td>...</td>\n",
       "      <td>-0.906071</td>\n",
       "      <td>1.655197</td>\n",
       "      <td>-4.271711</td>\n",
       "      <td>-5.712824</td>\n",
       "      <td>10.938442</td>\n",
       "      <td>-7.166239</td>\n",
       "      <td>2.408163</td>\n",
       "      <td>6.308542</td>\n",
       "      <td>-12.427919</td>\n",
       "      <td>male</td>\n",
       "    </tr>\n",
       "    <tr>\n",
       "      <th>3</th>\n",
       "      <td>111.888112</td>\n",
       "      <td>-510.597784</td>\n",
       "      <td>-505.053398</td>\n",
       "      <td>-499.959595</td>\n",
       "      <td>-178.190516</td>\n",
       "      <td>-148.948786</td>\n",
       "      <td>-134.754572</td>\n",
       "      <td>-95.023028</td>\n",
       "      <td>-217.987904</td>\n",
       "      <td>-182.906212</td>\n",
       "      <td>...</td>\n",
       "      <td>7.870008</td>\n",
       "      <td>6.556117</td>\n",
       "      <td>1.736444</td>\n",
       "      <td>-2.775575</td>\n",
       "      <td>8.263644</td>\n",
       "      <td>6.838414</td>\n",
       "      <td>-5.706881</td>\n",
       "      <td>-6.487910</td>\n",
       "      <td>2.364354</td>\n",
       "      <td>male</td>\n",
       "    </tr>\n",
       "    <tr>\n",
       "      <th>4</th>\n",
       "      <td>141.592920</td>\n",
       "      <td>-497.002436</td>\n",
       "      <td>-458.034473</td>\n",
       "      <td>-97.263039</td>\n",
       "      <td>-79.358949</td>\n",
       "      <td>-193.989282</td>\n",
       "      <td>-208.980368</td>\n",
       "      <td>-247.343874</td>\n",
       "      <td>-81.263047</td>\n",
       "      <td>-90.754025</td>\n",
       "      <td>...</td>\n",
       "      <td>0.537491</td>\n",
       "      <td>-8.843164</td>\n",
       "      <td>-3.455724</td>\n",
       "      <td>-8.615255</td>\n",
       "      <td>-9.572706</td>\n",
       "      <td>14.831292</td>\n",
       "      <td>14.022642</td>\n",
       "      <td>12.223706</td>\n",
       "      <td>8.603760</td>\n",
       "      <td>male</td>\n",
       "    </tr>\n",
       "  </tbody>\n",
       "</table>\n",
       "<p>5 rows × 112 columns</p>\n",
       "</div>"
      ],
      "text/plain": [
       "        pitch       mfcc1       mfcc2       mfcc3       mfcc4       mfcc5  \\\n",
       "0  111.888112 -510.597784 -505.053398 -499.959595 -178.190516 -148.948786   \n",
       "1   53.511706 -505.605406 -486.197290 -499.395205 -120.378805 -180.395347   \n",
       "2  125.000000 -437.255700 -441.068030 -190.264004 -160.938226 -161.990960   \n",
       "3  111.888112 -510.597784 -505.053398 -499.959595 -178.190516 -148.948786   \n",
       "4  141.592920 -497.002436 -458.034473  -97.263039  -79.358949 -193.989282   \n",
       "\n",
       "        mfcc6       mfcc7       mfcc8       mfcc9  ...   mfcc102   mfcc103  \\\n",
       "0 -134.754572  -95.023028 -217.987904 -182.906212  ...  7.870008  6.556117   \n",
       "1 -143.305227 -169.727007 -141.744821 -175.630594  ...  5.915203 -8.883986   \n",
       "2  -92.527338 -248.596371 -130.640863 -149.144037  ... -0.906071  1.655197   \n",
       "3 -134.754572  -95.023028 -217.987904 -182.906212  ...  7.870008  6.556117   \n",
       "4 -208.980368 -247.343874  -81.263047  -90.754025  ...  0.537491 -8.843164   \n",
       "\n",
       "    mfcc104   mfcc105    mfcc106    mfcc107    mfcc108    mfcc109    mfcc110  \\\n",
       "0  1.736444 -2.775575   8.263644   6.838414  -5.706881  -6.487910   2.364354   \n",
       "1 -7.964084 -3.190612  -3.025079   2.058585  20.512130  12.873238  16.508414   \n",
       "2 -4.271711 -5.712824  10.938442  -7.166239   2.408163   6.308542 -12.427919   \n",
       "3  1.736444 -2.775575   8.263644   6.838414  -5.706881  -6.487910   2.364354   \n",
       "4 -3.455724 -8.615255  -9.572706  14.831292  14.022642  12.223706   8.603760   \n",
       "\n",
       "   label  \n",
       "0   male  \n",
       "1   male  \n",
       "2   male  \n",
       "3   male  \n",
       "4   male  \n",
       "\n",
       "[5 rows x 112 columns]"
      ]
     },
     "execution_count": 3,
     "metadata": {},
     "output_type": "execute_result"
    }
   ],
   "source": [
    "voice = pd.read_csv(\"./datasets/features.csv\", index_col=0)\n",
    "print(voice.shape)\n",
    "voice.head()"
   ]
  },
  {
   "cell_type": "code",
   "execution_count": 4,
   "id": "bc5f5961",
   "metadata": {
    "scrolled": true
   },
   "outputs": [
    {
     "data": {
      "text/plain": [
       "pitch      False\n",
       "mfcc1      False\n",
       "mfcc2      False\n",
       "mfcc3      False\n",
       "mfcc4      False\n",
       "           ...  \n",
       "mfcc107    False\n",
       "mfcc108    False\n",
       "mfcc109    False\n",
       "mfcc110    False\n",
       "label      False\n",
       "Length: 112, dtype: bool"
      ]
     },
     "execution_count": 4,
     "metadata": {},
     "output_type": "execute_result"
    }
   ],
   "source": [
    "voice.isnull().any()"
   ]
  },
  {
   "cell_type": "code",
   "execution_count": 5,
   "id": "badb9f5e",
   "metadata": {},
   "outputs": [
    {
     "data": {
      "text/plain": [
       "<AxesSubplot:>"
      ]
     },
     "execution_count": 5,
     "metadata": {},
     "output_type": "execute_result"
    },
    {
     "data": {
      "image/png": "[encoded data removed]",
      "text/plain": [
       "<Figure size 1800x720 with 2 Axes>"
      ]
     },
     "metadata": {
      "needs_background": "light"
     },
     "output_type": "display_data"
    }
   ],
   "source": [
    "msno.matrix(voice)"
   ]
  },
  {
   "cell_type": "code",
   "execution_count": 6,
   "id": "98f6e1fa",
   "metadata": {},
   "outputs": [],
   "source": [
    "X = voice.iloc[:, :-1].values\n",
    "y = voice.iloc[:,-1:].values"
   ]
  },
  {
   "cell_type": "code",
   "execution_count": 7,
   "id": "0f06d51c",
   "metadata": {},
   "outputs": [],
   "source": [
    "#Taking care of missing data\n",
    "from sklearn.impute import SimpleImputer\n",
    "imputer = SimpleImputer(missing_values=0, strategy='mean')\n",
    "imputer = imputer.fit(X[:,:])\n",
    "X[:,:] = imputer.transform(X[:,:])"
   ]
  },
  {
   "cell_type": "code",
   "execution_count": 8,
   "id": "1d70fb75",
   "metadata": {},
   "outputs": [],
   "source": [
    "# Encoding categorical data\n",
    "from sklearn.preprocessing import LabelEncoder\n",
    "labelencoder_y = LabelEncoder()\n",
    "y = labelencoder_y.fit_transform(y.ravel())"
   ]
  },
  {
   "cell_type": "code",
   "execution_count": 9,
   "id": "35d57343",
   "metadata": {},
   "outputs": [
    {
     "data": {
      "text/plain": [
       "array([1, 1, 1, ..., 0, 0, 0])"
      ]
     },
     "execution_count": 9,
     "metadata": {},
     "output_type": "execute_result"
    }
   ],
   "source": [
    "y"
   ]
  },
  {
   "cell_type": "code",
   "execution_count": 10,
   "id": "7774cba8",
   "metadata": {},
   "outputs": [],
   "source": [
    "from sklearn.model_selection import train_test_split\n",
    "X_train, X_test, y_train, y_test = train_test_split(X, y, test_size=0.2, random_state=None, shuffle=True)"
   ]
  },
  {
   "cell_type": "code",
   "execution_count": 11,
   "id": "0f4c7762",
   "metadata": {},
   "outputs": [],
   "source": [
    "#feature scaling\n",
    "from sklearn.preprocessing import StandardScaler\n",
    "sc_X = StandardScaler()\n",
    "# sc_X = sc_X.fit(X_train)\n",
    "x_train_scaled = sc_X.fit_transform(X_train)\n",
    "x_test_scaled = sc_X.transform(X_test)"
   ]
  },
  {
   "cell_type": "markdown",
   "id": "944e5d9e",
   "metadata": {},
   "source": [
    "# Different Models"
   ]
  },
  {
   "cell_type": "code",
   "execution_count": 12,
   "id": "2601ee7a",
   "metadata": {},
   "outputs": [],
   "source": [
    "from sklearn.linear_model import LogisticRegression\n",
    "from sklearn.svm import LinearSVC\n",
    "from sklearn.svm import SVC\n",
    "from sklearn.neighbors import KNeighborsClassifier\n",
    "from sklearn.ensemble import RandomForestClassifier\n",
    "from sklearn.tree import DecisionTreeClassifier\n",
    "from sklearn.ensemble import GradientBoostingClassifier\n",
    "from sklearn.naive_bayes import GaussianNB\n",
    "\n",
    "#model selection\n",
    "from sklearn.metrics import accuracy_score,precision_score,confusion_matrix\n",
    "from sklearn.model_selection import GridSearchCV\n",
    "\n",
    "#preprocess.\n",
    "from sklearn.preprocessing import MinMaxScaler,StandardScaler"
   ]
  },
  {
   "cell_type": "code",
   "execution_count": 13,
   "id": "c3263727",
   "metadata": {},
   "outputs": [],
   "source": [
    "# #Making the confusion matrix\n",
    "# from sklearn.metrics import confusion_matrix\n",
    "# cm = confusion_matrix(y_test, pred)\n",
    "# print(cm)\n",
    "\n",
    "# correct_pred=sum(pred == y_test)\n",
    "# print(correct_pred)\n",
    "# print('accuracy = ', correct_pred*100/(pred.shape[0]))"
   ]
  },
  {
   "cell_type": "code",
   "execution_count": 14,
   "id": "1ebdcef5",
   "metadata": {},
   "outputs": [],
   "source": [
    "models=[LogisticRegression(),LinearSVC(),SVC(kernel='rbf'),KNeighborsClassifier(),RandomForestClassifier(),\n",
    "        DecisionTreeClassifier(),GradientBoostingClassifier(),GaussianNB()]\n",
    "model_names=['LogisticRegression','LinearSVM','rbfSVM','KNearestNeighbors','RandomForestClassifier','DecisionTree',\n",
    "             'GradientBoostingClassifier','GaussianNB']"
   ]
  },
  {
   "cell_type": "code",
   "execution_count": 15,
   "id": "41b8e25c",
   "metadata": {},
   "outputs": [
    {
     "name": "stdout",
     "output_type": "stream",
     "text": [
      "Accuracy of LogisticRegression is: 0.7344241661422278\n",
      "Accuracy of LinearSVM is: 0.7319068596601637\n",
      "Accuracy of rbfSVM is: 0.8558842039018251\n",
      "Accuracy of KNearestNeighbors is: 0.8011327879169289\n",
      "Accuracy of RandomForestClassifier is: 0.8835745752045312\n",
      "Accuracy of DecisionTree is: 0.78980490874764\n",
      "Accuracy of GradientBoostingClassifier is: 0.8823159219634991\n",
      "Accuracy of GaussianNB is: 0.6557583385777218\n"
     ]
    }
   ],
   "source": [
    "models_info = []\n",
    "\n",
    "for i in range(len(models)):\n",
    "    clf = models[i]\n",
    "    clf.fit(x_train_scaled,y_train)\n",
    "    pred = clf.predict(x_test_scaled)\n",
    "    acc = accuracy_score(pred,y_test)\n",
    "    \n",
    "    models_info.append(\n",
    "        {\n",
    "            'acc': acc,\n",
    "            'name': model_names[i],\n",
    "            \"model\": models[i]\n",
    "        })\n",
    "    print(\"Accuracy of {} is: {}\".format(model_names[i], acc))"
   ]
  },
  {
   "cell_type": "code",
   "execution_count": 16,
   "id": "1cb13290",
   "metadata": {},
   "outputs": [
    {
     "data": {
      "text/plain": [
       "[{'acc': 0.7344241661422278,\n",
       "  'name': 'LogisticRegression',\n",
       "  'model': LogisticRegression()},\n",
       " {'acc': 0.7319068596601637, 'name': 'LinearSVM', 'model': LinearSVC()},\n",
       " {'acc': 0.8558842039018251, 'name': 'rbfSVM', 'model': SVC()},\n",
       " {'acc': 0.8011327879169289,\n",
       "  'name': 'KNearestNeighbors',\n",
       "  'model': KNeighborsClassifier()},\n",
       " {'acc': 0.8835745752045312,\n",
       "  'name': 'RandomForestClassifier',\n",
       "  'model': RandomForestClassifier()},\n",
       " {'acc': 0.78980490874764,\n",
       "  'name': 'DecisionTree',\n",
       "  'model': DecisionTreeClassifier()},\n",
       " {'acc': 0.8823159219634991,\n",
       "  'name': 'GradientBoostingClassifier',\n",
       "  'model': GradientBoostingClassifier()},\n",
       " {'acc': 0.6557583385777218, 'name': 'GaussianNB', 'model': GaussianNB()}]"
      ]
     },
     "execution_count": 16,
     "metadata": {},
     "output_type": "execute_result"
    }
   ],
   "source": [
    "models_info"
   ]
  },
  {
   "cell_type": "code",
   "execution_count": 17,
   "id": "d409ee8f",
   "metadata": {},
   "outputs": [
    {
     "data": {
      "text/html": [
       "<div>\n",
       "<style scoped>\n",
       "    .dataframe tbody tr th:only-of-type {\n",
       "        vertical-align: middle;\n",
       "    }\n",
       "\n",
       "    .dataframe tbody tr th {\n",
       "        vertical-align: top;\n",
       "    }\n",
       "\n",
       "    .dataframe thead th {\n",
       "        text-align: right;\n",
       "    }\n",
       "</style>\n",
       "<table border=\"1\" class=\"dataframe\">\n",
       "  <thead>\n",
       "    <tr style=\"text-align: right;\">\n",
       "      <th></th>\n",
       "      <th>Accuracy</th>\n",
       "      <th>Modelling Algorithm</th>\n",
       "      <th>model</th>\n",
       "    </tr>\n",
       "  </thead>\n",
       "  <tbody>\n",
       "    <tr>\n",
       "      <th>4</th>\n",
       "      <td>0.883575</td>\n",
       "      <td>RandomForestClassifier</td>\n",
       "      <td>(DecisionTreeClassifier(max_features='auto', r...</td>\n",
       "    </tr>\n",
       "    <tr>\n",
       "      <th>6</th>\n",
       "      <td>0.882316</td>\n",
       "      <td>GradientBoostingClassifier</td>\n",
       "      <td>([DecisionTreeRegressor(criterion='friedman_ms...</td>\n",
       "    </tr>\n",
       "    <tr>\n",
       "      <th>2</th>\n",
       "      <td>0.855884</td>\n",
       "      <td>rbfSVM</td>\n",
       "      <td>SVC()</td>\n",
       "    </tr>\n",
       "    <tr>\n",
       "      <th>3</th>\n",
       "      <td>0.801133</td>\n",
       "      <td>KNearestNeighbors</td>\n",
       "      <td>KNeighborsClassifier()</td>\n",
       "    </tr>\n",
       "    <tr>\n",
       "      <th>5</th>\n",
       "      <td>0.789805</td>\n",
       "      <td>DecisionTree</td>\n",
       "      <td>DecisionTreeClassifier()</td>\n",
       "    </tr>\n",
       "    <tr>\n",
       "      <th>0</th>\n",
       "      <td>0.734424</td>\n",
       "      <td>LogisticRegression</td>\n",
       "      <td>LogisticRegression()</td>\n",
       "    </tr>\n",
       "    <tr>\n",
       "      <th>1</th>\n",
       "      <td>0.731907</td>\n",
       "      <td>LinearSVM</td>\n",
       "      <td>LinearSVC()</td>\n",
       "    </tr>\n",
       "    <tr>\n",
       "      <th>7</th>\n",
       "      <td>0.655758</td>\n",
       "      <td>GaussianNB</td>\n",
       "      <td>GaussianNB()</td>\n",
       "    </tr>\n",
       "  </tbody>\n",
       "</table>\n",
       "</div>"
      ],
      "text/plain": [
       "   Accuracy         Modelling Algorithm  \\\n",
       "4  0.883575      RandomForestClassifier   \n",
       "6  0.882316  GradientBoostingClassifier   \n",
       "2  0.855884                      rbfSVM   \n",
       "3  0.801133           KNearestNeighbors   \n",
       "5  0.789805                DecisionTree   \n",
       "0  0.734424          LogisticRegression   \n",
       "1  0.731907                   LinearSVM   \n",
       "7  0.655758                  GaussianNB   \n",
       "\n",
       "                                               model  \n",
       "4  (DecisionTreeClassifier(max_features='auto', r...  \n",
       "6  ([DecisionTreeRegressor(criterion='friedman_ms...  \n",
       "2                                              SVC()  \n",
       "3                             KNeighborsClassifier()  \n",
       "5                           DecisionTreeClassifier()  \n",
       "0                               LogisticRegression()  \n",
       "1                                        LinearSVC()  \n",
       "7                                       GaussianNB()  "
      ]
     },
     "execution_count": 17,
     "metadata": {},
     "output_type": "execute_result"
    }
   ],
   "source": [
    "acc_frame=pd.DataFrame(models_info)\n",
    "acc_frame = acc_frame.sort_values(by=\"acc\", ascending = False)\n",
    "acc_frame.rename(columns={\"acc\": \"Accuracy\", \"name\": \"Modelling Algorithm\"}, inplace=True)\n",
    "\n",
    "acc_frame"
   ]
  },
  {
   "cell_type": "code",
   "execution_count": 18,
   "id": "6dced517",
   "metadata": {
    "scrolled": false
   },
   "outputs": [
    {
     "data": {
      "text/plain": [
       "<AxesSubplot:xlabel='Accuracy', ylabel='Modelling Algorithm'>"
      ]
     },
     "execution_count": 18,
     "metadata": {},
     "output_type": "execute_result"
    },
    {
     "data": {
      "image/png": "[encoded data removed]",
      "text/plain": [
       "<Figure size 432x288 with 1 Axes>"
      ]
     },
     "metadata": {
      "needs_background": "light"
     },
     "output_type": "display_data"
    }
   ],
   "source": [
    "sns.barplot(y='Modelling Algorithm',x='Accuracy',data=acc_frame)"
   ]
  },
  {
   "cell_type": "markdown",
   "id": "257e730e",
   "metadata": {},
   "source": [
    "# Parameter Tuning"
   ]
  },
  {
   "cell_type": "markdown",
   "id": "8b09b2b9",
   "metadata": {},
   "source": [
    "### Random Forest Classifier"
   ]
  },
  {
   "cell_type": "code",
   "execution_count": 19,
   "id": "2d80d5d7",
   "metadata": {},
   "outputs": [],
   "source": [
    "# from sklearn.model_selection import RandomizedSearchCV\n",
    "\n",
    "# params_dict={'bootstrap': [True, False],\n",
    "#  'max_depth': [10, 20, 30, 40, 50, 60, 70, 80, 90, 100, None],\n",
    "#  'max_features': ['auto', 'sqrt'],\n",
    "#  'min_samples_leaf': [1, 2, 4],\n",
    "#  'min_samples_split': [2, 5, 10],\n",
    "#  'n_estimators': [200, 400, 600, 800, 1000, 1200, 1400, 1600, 1800, 2000]}\n",
    "\n",
    "# rf = RandomizedSearchCV(estimator = RandomForestClassifier(), param_distributions = params_dict, n_iter = 100, cv = 3, verbose=2, random_state=42, n_jobs = -1)\n",
    "# rf.fit(x_train_scaled,y_train)"
   ]
  },
  {
   "cell_type": "code",
   "execution_count": 20,
   "id": "4167ebf9",
   "metadata": {},
   "outputs": [],
   "source": [
    "# print(\"Best Score is: {}\".format(rf.best_score_))\n",
    "# print(\"Best params are: {}\".format(rf.best_params_))\n",
    "# print(\"Best Accuracy Score is: {}\".format(accuracy_score(rf.predict(x_test_scaled),y_test)))\n",
    "# print(\"Best Precision Score is: {}\".format(precision_score(rf.predict(x_test_scaled),y_test)))"
   ]
  },
  {
   "cell_type": "code",
   "execution_count": 21,
   "id": "515dd9f2",
   "metadata": {},
   "outputs": [],
   "source": [
    "for model_info in models_info:\n",
    "    if model_info[\"name\"]==\"RandomForestClassifier\":\n",
    "        new_model = {\n",
    "            \"name\": model_info[\"name\"], \n",
    "            \"model\": RandomForestClassifier(\n",
    "                n_estimators=800,min_samples_split=2,min_samples_leaf=1,max_features='sqrt',\n",
    "                max_depth=70,bootstrap=False\n",
    "        )}\n",
    "        model_info.update(new_model)"
   ]
  },
  {
   "cell_type": "code",
   "execution_count": 22,
   "id": "d2dae64b",
   "metadata": {},
   "outputs": [
    {
     "data": {
      "text/plain": [
       "[{'acc': 0.7344241661422278,\n",
       "  'name': 'LogisticRegression',\n",
       "  'model': LogisticRegression()},\n",
       " {'acc': 0.7319068596601637, 'name': 'LinearSVM', 'model': LinearSVC()},\n",
       " {'acc': 0.8558842039018251, 'name': 'rbfSVM', 'model': SVC()},\n",
       " {'acc': 0.8011327879169289,\n",
       "  'name': 'KNearestNeighbors',\n",
       "  'model': KNeighborsClassifier()},\n",
       " {'acc': 0.8835745752045312,\n",
       "  'name': 'RandomForestClassifier',\n",
       "  'model': RandomForestClassifier(bootstrap=False, max_depth=70, max_features='sqrt',\n",
       "                         n_estimators=800)},\n",
       " {'acc': 0.78980490874764,\n",
       "  'name': 'DecisionTree',\n",
       "  'model': DecisionTreeClassifier()},\n",
       " {'acc': 0.8823159219634991,\n",
       "  'name': 'GradientBoostingClassifier',\n",
       "  'model': GradientBoostingClassifier()},\n",
       " {'acc': 0.6557583385777218, 'name': 'GaussianNB', 'model': GaussianNB()}]"
      ]
     },
     "execution_count": 22,
     "metadata": {},
     "output_type": "execute_result"
    }
   ],
   "source": [
    "models_info"
   ]
  },
  {
   "cell_type": "markdown",
   "id": "ccc5d83f",
   "metadata": {},
   "source": [
    "### SVC"
   ]
  },
  {
   "cell_type": "code",
   "execution_count": 23,
   "id": "b6baeaab",
   "metadata": {},
   "outputs": [],
   "source": [
    "# param_grid = {'C': [0.1, 1, 10, 100],'gamma': [1, 0.1, 0.01, 0.001, 0.0001],'kernel': ['rbf', 'linear']}\n",
    " \n",
    "# svc = GridSearchCV(estimator = SVC(), param_grid=param_grid, refit = True, verbose = 3)\n",
    "# svc.fit(x_train_scaled,y_train)"
   ]
  },
  {
   "cell_type": "code",
   "execution_count": 24,
   "id": "2c6c9e68",
   "metadata": {},
   "outputs": [],
   "source": [
    "# print(\"Best Score is: {}\".format(svc.best_score_))\n",
    "# print(\"Best params are: {}\".format(svc.best_params_))\n",
    "# print(\"Best Accuracy Score is: {}\".format(accuracy_score(svc.predict(x_test_scaled),y_test)))\n",
    "# print(\"Best Precision Score is: {}\".format(precision_score(svc.predict(x_test_scaled),y_test)))"
   ]
  },
  {
   "cell_type": "markdown",
   "id": "c78d0e66",
   "metadata": {},
   "source": [
    "# Save Models"
   ]
  },
  {
   "cell_type": "code",
   "execution_count": 25,
   "id": "96e11818",
   "metadata": {},
   "outputs": [],
   "source": [
    "import pickle\n",
    "pickle.dump(sc_X, open(\"out/scaler/scaler.sav\", \"wb\"))"
   ]
  },
  {
   "cell_type": "code",
   "execution_count": 26,
   "id": "45b369dd",
   "metadata": {},
   "outputs": [],
   "source": [
    "# for i in range(len(models_info)):\n",
    "#     clf = models_info[i][\"model\"]\n",
    "#     clf.fit(x_train_scaled, y_train)\n",
    "#     pickle.dump(clf, open(\"out/models/{}.sav\".format(models_info[i][\"name\"]), \"wb\"))\n",
    "#     print(\"{} saved!,  {}\".format(models_info[i][\"name\"], models_info[i][\"model\"]))"
   ]
  },
  {
   "cell_type": "markdown",
   "id": "7b09765e",
   "metadata": {},
   "source": [
    "# Save the model and scaler"
   ]
  },
  {
   "cell_type": "code",
   "execution_count": 27,
   "id": "47836571",
   "metadata": {},
   "outputs": [],
   "source": [
    "# model_rf = models_info[4][\"model\"]\n",
    "# model_rf.fit(x_train_scaled, y_train)\n",
    "\n",
    "# pickle.dump(model_rf, open(\"out/models/rf_model_final.sav\", \"wb\"))"
   ]
  },
  {
   "cell_type": "markdown",
   "id": "2a419d24",
   "metadata": {},
   "source": [
    "### Load and Test Random Forest Classifier Model"
   ]
  },
  {
   "cell_type": "code",
   "execution_count": 28,
   "id": "776cfe0d",
   "metadata": {},
   "outputs": [
    {
     "name": "stdout",
     "output_type": "stream",
     "text": [
      "Random Forest Classifier Model Accuracy Score is: 0.9779735682819384\n"
     ]
    }
   ],
   "source": [
    "model_rf = pickle.load(open('out/models/RandomForestClassifier.sav', 'rb'))\n",
    "\n",
    "pred_rf=model_rf.predict(x_test_scaled)\n",
    "print(\"Random Forest Classifier Model Accuracy Score is: {}\".format(accuracy_score(pred_rf,y_test)))"
   ]
  },
  {
   "cell_type": "markdown",
   "id": "f28d550c",
   "metadata": {},
   "source": [
    "### Load and Test SVC Model"
   ]
  },
  {
   "cell_type": "code",
   "execution_count": 29,
   "id": "5cb6ad2a",
   "metadata": {
    "scrolled": true
   },
   "outputs": [
    {
     "name": "stdout",
     "output_type": "stream",
     "text": [
      "SVC Model Accuracy Score is: 0.9257394587791064\n"
     ]
    }
   ],
   "source": [
    "model_svc = pickle.load(open('out/models/rbfSVM.sav', 'rb'))\n",
    "\n",
    "pred_svc=model_svc.predict(x_test_scaled)\n",
    "print(\"SVC Model Accuracy Score is: {}\".format(accuracy_score(pred_svc,y_test)))"
   ]
  },
  {
   "cell_type": "code",
   "execution_count": 30,
   "id": "e4e3bc40",
   "metadata": {},
   "outputs": [
    {
     "name": "stdout",
     "output_type": "stream",
     "text": [
      "GradientBoostingClassifier Model Accuracy Score is: 0.8999370673379484\n"
     ]
    }
   ],
   "source": [
    "model_gbc = pickle.load(open('out/models/GradientBoostingClassifier.sav', 'rb'))\n",
    "\n",
    "pred_gbc=model_gbc.predict(x_test_scaled)\n",
    "print(\"GradientBoostingClassifier Model Accuracy Score is: {}\".format(accuracy_score(pred_gbc,y_test)))"
   ]
  },
  {
   "cell_type": "markdown",
   "id": "10889c6b",
   "metadata": {},
   "source": [
    "# Test Single Value"
   ]
  },
  {
   "cell_type": "code",
   "execution_count": 31,
   "id": "e70bb39b",
   "metadata": {},
   "outputs": [
    {
     "data": {
      "text/html": [
       "<div>\n",
       "<style scoped>\n",
       "    .dataframe tbody tr th:only-of-type {\n",
       "        vertical-align: middle;\n",
       "    }\n",
       "\n",
       "    .dataframe tbody tr th {\n",
       "        vertical-align: top;\n",
       "    }\n",
       "\n",
       "    .dataframe thead th {\n",
       "        text-align: right;\n",
       "    }\n",
       "</style>\n",
       "<table border=\"1\" class=\"dataframe\">\n",
       "  <thead>\n",
       "    <tr style=\"text-align: right;\">\n",
       "      <th></th>\n",
       "      <th>pitch</th>\n",
       "      <th>mfcc1</th>\n",
       "      <th>mfcc2</th>\n",
       "      <th>mfcc3</th>\n",
       "      <th>mfcc4</th>\n",
       "      <th>mfcc5</th>\n",
       "      <th>mfcc6</th>\n",
       "      <th>mfcc7</th>\n",
       "      <th>mfcc8</th>\n",
       "      <th>mfcc9</th>\n",
       "      <th>...</th>\n",
       "      <th>mfcc102</th>\n",
       "      <th>mfcc103</th>\n",
       "      <th>mfcc104</th>\n",
       "      <th>mfcc105</th>\n",
       "      <th>mfcc106</th>\n",
       "      <th>mfcc107</th>\n",
       "      <th>mfcc108</th>\n",
       "      <th>mfcc109</th>\n",
       "      <th>mfcc110</th>\n",
       "      <th>label</th>\n",
       "    </tr>\n",
       "  </thead>\n",
       "  <tbody>\n",
       "    <tr>\n",
       "      <th>0</th>\n",
       "      <td>111.888112</td>\n",
       "      <td>-510.597784</td>\n",
       "      <td>-505.053398</td>\n",
       "      <td>-499.959595</td>\n",
       "      <td>-178.190516</td>\n",
       "      <td>-148.948786</td>\n",
       "      <td>-134.754572</td>\n",
       "      <td>-95.023028</td>\n",
       "      <td>-217.987904</td>\n",
       "      <td>-182.906212</td>\n",
       "      <td>...</td>\n",
       "      <td>7.870008</td>\n",
       "      <td>6.556117</td>\n",
       "      <td>1.736444</td>\n",
       "      <td>-2.775575</td>\n",
       "      <td>8.263644</td>\n",
       "      <td>6.838414</td>\n",
       "      <td>-5.706881</td>\n",
       "      <td>-6.487910</td>\n",
       "      <td>2.364354</td>\n",
       "      <td>male</td>\n",
       "    </tr>\n",
       "    <tr>\n",
       "      <th>1</th>\n",
       "      <td>53.511706</td>\n",
       "      <td>-505.605406</td>\n",
       "      <td>-486.197290</td>\n",
       "      <td>-499.395205</td>\n",
       "      <td>-120.378805</td>\n",
       "      <td>-180.395347</td>\n",
       "      <td>-143.305227</td>\n",
       "      <td>-169.727007</td>\n",
       "      <td>-141.744821</td>\n",
       "      <td>-175.630594</td>\n",
       "      <td>...</td>\n",
       "      <td>5.915203</td>\n",
       "      <td>-8.883986</td>\n",
       "      <td>-7.964084</td>\n",
       "      <td>-3.190612</td>\n",
       "      <td>-3.025079</td>\n",
       "      <td>2.058585</td>\n",
       "      <td>20.512130</td>\n",
       "      <td>12.873238</td>\n",
       "      <td>16.508414</td>\n",
       "      <td>male</td>\n",
       "    </tr>\n",
       "    <tr>\n",
       "      <th>2</th>\n",
       "      <td>125.000000</td>\n",
       "      <td>-437.255700</td>\n",
       "      <td>-441.068030</td>\n",
       "      <td>-190.264004</td>\n",
       "      <td>-160.938226</td>\n",
       "      <td>-161.990960</td>\n",
       "      <td>-92.527338</td>\n",
       "      <td>-248.596371</td>\n",
       "      <td>-130.640863</td>\n",
       "      <td>-149.144037</td>\n",
       "      <td>...</td>\n",
       "      <td>-0.906071</td>\n",
       "      <td>1.655197</td>\n",
       "      <td>-4.271711</td>\n",
       "      <td>-5.712824</td>\n",
       "      <td>10.938442</td>\n",
       "      <td>-7.166239</td>\n",
       "      <td>2.408163</td>\n",
       "      <td>6.308542</td>\n",
       "      <td>-12.427919</td>\n",
       "      <td>male</td>\n",
       "    </tr>\n",
       "    <tr>\n",
       "      <th>3</th>\n",
       "      <td>111.888112</td>\n",
       "      <td>-510.597784</td>\n",
       "      <td>-505.053398</td>\n",
       "      <td>-499.959595</td>\n",
       "      <td>-178.190516</td>\n",
       "      <td>-148.948786</td>\n",
       "      <td>-134.754572</td>\n",
       "      <td>-95.023028</td>\n",
       "      <td>-217.987904</td>\n",
       "      <td>-182.906212</td>\n",
       "      <td>...</td>\n",
       "      <td>7.870008</td>\n",
       "      <td>6.556117</td>\n",
       "      <td>1.736444</td>\n",
       "      <td>-2.775575</td>\n",
       "      <td>8.263644</td>\n",
       "      <td>6.838414</td>\n",
       "      <td>-5.706881</td>\n",
       "      <td>-6.487910</td>\n",
       "      <td>2.364354</td>\n",
       "      <td>male</td>\n",
       "    </tr>\n",
       "    <tr>\n",
       "      <th>4</th>\n",
       "      <td>141.592920</td>\n",
       "      <td>-497.002436</td>\n",
       "      <td>-458.034473</td>\n",
       "      <td>-97.263039</td>\n",
       "      <td>-79.358949</td>\n",
       "      <td>-193.989282</td>\n",
       "      <td>-208.980368</td>\n",
       "      <td>-247.343874</td>\n",
       "      <td>-81.263047</td>\n",
       "      <td>-90.754025</td>\n",
       "      <td>...</td>\n",
       "      <td>0.537491</td>\n",
       "      <td>-8.843164</td>\n",
       "      <td>-3.455724</td>\n",
       "      <td>-8.615255</td>\n",
       "      <td>-9.572706</td>\n",
       "      <td>14.831292</td>\n",
       "      <td>14.022642</td>\n",
       "      <td>12.223706</td>\n",
       "      <td>8.603760</td>\n",
       "      <td>male</td>\n",
       "    </tr>\n",
       "  </tbody>\n",
       "</table>\n",
       "<p>5 rows × 112 columns</p>\n",
       "</div>"
      ],
      "text/plain": [
       "        pitch       mfcc1       mfcc2       mfcc3       mfcc4       mfcc5  \\\n",
       "0  111.888112 -510.597784 -505.053398 -499.959595 -178.190516 -148.948786   \n",
       "1   53.511706 -505.605406 -486.197290 -499.395205 -120.378805 -180.395347   \n",
       "2  125.000000 -437.255700 -441.068030 -190.264004 -160.938226 -161.990960   \n",
       "3  111.888112 -510.597784 -505.053398 -499.959595 -178.190516 -148.948786   \n",
       "4  141.592920 -497.002436 -458.034473  -97.263039  -79.358949 -193.989282   \n",
       "\n",
       "        mfcc6       mfcc7       mfcc8       mfcc9  ...   mfcc102   mfcc103  \\\n",
       "0 -134.754572  -95.023028 -217.987904 -182.906212  ...  7.870008  6.556117   \n",
       "1 -143.305227 -169.727007 -141.744821 -175.630594  ...  5.915203 -8.883986   \n",
       "2  -92.527338 -248.596371 -130.640863 -149.144037  ... -0.906071  1.655197   \n",
       "3 -134.754572  -95.023028 -217.987904 -182.906212  ...  7.870008  6.556117   \n",
       "4 -208.980368 -247.343874  -81.263047  -90.754025  ...  0.537491 -8.843164   \n",
       "\n",
       "    mfcc104   mfcc105    mfcc106    mfcc107    mfcc108    mfcc109    mfcc110  \\\n",
       "0  1.736444 -2.775575   8.263644   6.838414  -5.706881  -6.487910   2.364354   \n",
       "1 -7.964084 -3.190612  -3.025079   2.058585  20.512130  12.873238  16.508414   \n",
       "2 -4.271711 -5.712824  10.938442  -7.166239   2.408163   6.308542 -12.427919   \n",
       "3  1.736444 -2.775575   8.263644   6.838414  -5.706881  -6.487910   2.364354   \n",
       "4 -3.455724 -8.615255  -9.572706  14.831292  14.022642  12.223706   8.603760   \n",
       "\n",
       "   label  \n",
       "0   male  \n",
       "1   male  \n",
       "2   male  \n",
       "3   male  \n",
       "4   male  \n",
       "\n",
       "[5 rows x 112 columns]"
      ]
     },
     "execution_count": 31,
     "metadata": {},
     "output_type": "execute_result"
    }
   ],
   "source": [
    "voice.head()"
   ]
  },
  {
   "cell_type": "code",
   "execution_count": 32,
   "id": "755371e8",
   "metadata": {},
   "outputs": [
    {
     "data": {
      "text/html": [
       "<div>\n",
       "<style scoped>\n",
       "    .dataframe tbody tr th:only-of-type {\n",
       "        vertical-align: middle;\n",
       "    }\n",
       "\n",
       "    .dataframe tbody tr th {\n",
       "        vertical-align: top;\n",
       "    }\n",
       "\n",
       "    .dataframe thead th {\n",
       "        text-align: right;\n",
       "    }\n",
       "</style>\n",
       "<table border=\"1\" class=\"dataframe\">\n",
       "  <thead>\n",
       "    <tr style=\"text-align: right;\">\n",
       "      <th></th>\n",
       "      <th>pitch</th>\n",
       "      <th>mfcc1</th>\n",
       "      <th>mfcc2</th>\n",
       "      <th>mfcc3</th>\n",
       "      <th>mfcc4</th>\n",
       "      <th>mfcc5</th>\n",
       "      <th>mfcc6</th>\n",
       "      <th>mfcc7</th>\n",
       "      <th>mfcc8</th>\n",
       "      <th>mfcc9</th>\n",
       "      <th>...</th>\n",
       "      <th>mfcc101</th>\n",
       "      <th>mfcc102</th>\n",
       "      <th>mfcc103</th>\n",
       "      <th>mfcc104</th>\n",
       "      <th>mfcc105</th>\n",
       "      <th>mfcc106</th>\n",
       "      <th>mfcc107</th>\n",
       "      <th>mfcc108</th>\n",
       "      <th>mfcc109</th>\n",
       "      <th>mfcc110</th>\n",
       "    </tr>\n",
       "  </thead>\n",
       "  <tbody>\n",
       "    <tr>\n",
       "      <th>0</th>\n",
       "      <td>111.888112</td>\n",
       "      <td>-510.597784</td>\n",
       "      <td>-505.053398</td>\n",
       "      <td>-499.959595</td>\n",
       "      <td>-178.190516</td>\n",
       "      <td>-148.948786</td>\n",
       "      <td>-134.754572</td>\n",
       "      <td>-95.023028</td>\n",
       "      <td>-217.987904</td>\n",
       "      <td>-182.906212</td>\n",
       "      <td>...</td>\n",
       "      <td>15.621741</td>\n",
       "      <td>7.870008</td>\n",
       "      <td>6.556117</td>\n",
       "      <td>1.736444</td>\n",
       "      <td>-2.775575</td>\n",
       "      <td>8.263644</td>\n",
       "      <td>6.838414</td>\n",
       "      <td>-5.706881</td>\n",
       "      <td>-6.48791</td>\n",
       "      <td>2.364354</td>\n",
       "    </tr>\n",
       "  </tbody>\n",
       "</table>\n",
       "<p>1 rows × 111 columns</p>\n",
       "</div>"
      ],
      "text/plain": [
       "        pitch       mfcc1       mfcc2       mfcc3       mfcc4       mfcc5  \\\n",
       "0  111.888112 -510.597784 -505.053398 -499.959595 -178.190516 -148.948786   \n",
       "\n",
       "        mfcc6      mfcc7       mfcc8       mfcc9  ...    mfcc101   mfcc102  \\\n",
       "0 -134.754572 -95.023028 -217.987904 -182.906212  ...  15.621741  7.870008   \n",
       "\n",
       "    mfcc103   mfcc104   mfcc105   mfcc106   mfcc107   mfcc108  mfcc109  \\\n",
       "0  6.556117  1.736444 -2.775575  8.263644  6.838414 -5.706881 -6.48791   \n",
       "\n",
       "    mfcc110  \n",
       "0  2.364354  \n",
       "\n",
       "[1 rows x 111 columns]"
      ]
     },
     "execution_count": 32,
     "metadata": {},
     "output_type": "execute_result"
    }
   ],
   "source": [
    "t = voice.iloc[:,0:-1].head(1)\n",
    "t"
   ]
  },
  {
   "cell_type": "code",
   "execution_count": 33,
   "id": "dc937730",
   "metadata": {},
   "outputs": [
    {
     "data": {
      "text/plain": [
       "array([[-0.82027195, -0.31822157, -0.70999436, -1.53303301,  0.55220454,\n",
       "         0.86242035,  1.03879532,  1.30303253,  0.81495875,  1.17485826,\n",
       "         1.37919965,  0.78292099,  0.19117689,  0.02772572,  0.23696693,\n",
       "         0.95510763, -1.14002406, -2.55991894, -0.66767311,  1.17832464,\n",
       "         0.60486603,  1.46165031,  1.5483799 , -0.29039153, -0.08057036,\n",
       "         0.51119673,  0.61969888,  0.63145584, -0.64711929, -1.17928601,\n",
       "         0.00937597,  0.20176818,  0.25824115,  0.98439736,  0.05715802,\n",
       "         0.51384526,  1.04309544,  0.10229371, -1.31500035,  0.34218292,\n",
       "         0.88193575,  0.62365467, -0.78207324, -1.09059   , -1.04081722,\n",
       "         0.18183781,  0.53376991,  0.78132123,  0.37376719, -0.51241456,\n",
       "         0.27123649,  0.19233945, -1.99103716, -1.25145135, -0.91136814,\n",
       "        -0.68930318,  0.60636223,  0.15563469,  0.39171126, -0.06864815,\n",
       "         1.41906979,  0.1059442 ,  1.16320742, -1.31024324,  0.15857815,\n",
       "         0.38169041,  0.28400601,  0.58508412, -0.17716587,  0.52993318,\n",
       "         1.11485429,  0.33562047, -1.24895188,  0.68479664, -1.31948972,\n",
       "         0.10720438,  0.54794668, -0.687808  ,  0.72000999,  0.0620195 ,\n",
       "         0.76923388, -0.45602901,  0.29557747, -0.95548145, -1.16989272,\n",
       "         1.45786559,  0.07039755,  0.03945858,  0.12825452, -0.05227474,\n",
       "         0.41550268,  0.6793177 ,  0.80743599,  0.0616254 ,  1.01233853,\n",
       "         0.17502165, -2.07310404, -0.04933443,  0.10687497, -0.36982686,\n",
       "         0.19495023,  0.78908356,  0.1646791 ,  0.20760074, -0.02181216,\n",
       "        -0.30238072,  0.48212422,  0.35955088, -0.77470385, -1.04193362,\n",
       "        -0.18749243]])"
      ]
     },
     "execution_count": 33,
     "metadata": {},
     "output_type": "execute_result"
    }
   ],
   "source": [
    "scaler = pickle.load(open(\"out/scaler/scaler.pkl\", \"rb\"))\n",
    "\n",
    "t1 = scaler.transform(t)\n",
    "t1"
   ]
  },
  {
   "cell_type": "code",
   "execution_count": 34,
   "id": "2a3dbd22",
   "metadata": {},
   "outputs": [
    {
     "name": "stdout",
     "output_type": "stream",
     "text": [
      "Male Predicted by \"Random Forest Model\"\n"
     ]
    }
   ],
   "source": [
    "pred=model_rf.predict(t1)\n",
    "txt = '{gender} Predicted by \\\"Random Forest Model\\\"'.format(gender='Male' if pred==1 else 0)\n",
    "print(txt)"
   ]
  },
  {
   "cell_type": "code",
   "execution_count": 35,
   "id": "517dc171",
   "metadata": {},
   "outputs": [
    {
     "name": "stdout",
     "output_type": "stream",
     "text": [
      "Male Predicted by \"SVC Model\"\n"
     ]
    }
   ],
   "source": [
    "pred=model_svc.predict(t1)\n",
    "txt = '{gender} Predicted by \\\"SVC Model\\\"'.format(gender='Male' if pred==1 else 0)\n",
    "print(txt)"
   ]
  },
  {
   "cell_type": "code",
   "execution_count": 36,
   "id": "1b90d609",
   "metadata": {},
   "outputs": [
    {
     "name": "stdout",
     "output_type": "stream",
     "text": [
      "Male Predicted by \"Gradient Boosting Classifier Model\"\n"
     ]
    }
   ],
   "source": [
    "pred=model_gbc.predict(t1)\n",
    "txt = '{gender} Predicted by \\\"Gradient Boosting Classifier Model\\\"'.format(gender='Male' if pred==1 else 0)\n",
    "print(txt)"
   ]
  },
  {
   "cell_type": "markdown",
   "id": "97032de1",
   "metadata": {},
   "source": [
    "# Record Audio (16bit mono Channel)"
   ]
  },
  {
   "cell_type": "code",
   "execution_count": 37,
   "id": "439a41e2",
   "metadata": {},
   "outputs": [],
   "source": [
    "import os"
   ]
  },
  {
   "cell_type": "code",
   "execution_count": 38,
   "id": "76275553",
   "metadata": {},
   "outputs": [],
   "source": [
    "import pyaudio, wave, os\n",
    "from datetime import datetime as dt\n",
    "\n",
    "def record(path):\n",
    "    FORMAT = pyaudio.paInt16\n",
    "    CHANNELS = 1\n",
    "    RATE = 48000\n",
    "    CHUNK = 1024\n",
    "    RECORD_SECONDS = 10\n",
    "    filename = 'test{}.wav'.format(dt.now())\n",
    "    \n",
    "    audio = pyaudio.PyAudio()\n",
    "    stream = audio.open(format=FORMAT, channels=CHANNELS, rate=RATE, input=True, frames_per_buffer=CHUNK)\n",
    "    print(\"recording...\")\n",
    "    \n",
    "    frames = []\n",
    "    for i in range(0, int(RATE / CHUNK * RECORD_SECONDS)):\n",
    "        data = stream.read(CHUNK)\n",
    "        frames.append(data)\n",
    "        \n",
    "    print(\"finished recording\")\n",
    "    \n",
    "    stream.stop_stream()\n",
    "    stream.close()\n",
    "    audio.terminate()\n",
    "    \n",
    "    waveFile = wave.open(os.path.join(path,filename), 'wb')\n",
    "    waveFile.setnchannels(CHANNELS)\n",
    "    waveFile.setsampwidth(audio.get_sample_size(FORMAT))\n",
    "    waveFile.setframerate(RATE)\n",
    "    waveFile.writeframes(b''.join(frames))\n",
    "    waveFile.close()"
   ]
  },
  {
   "cell_type": "code",
   "execution_count": 39,
   "id": "e6786e99",
   "metadata": {},
   "outputs": [],
   "source": [
    "# record(\"./recordings\")"
   ]
  },
  {
   "cell_type": "markdown",
   "id": "e8d2a32d",
   "metadata": {},
   "source": [
    "# Feature extraction"
   ]
  },
  {
   "cell_type": "code",
   "execution_count": 40,
   "id": "17b4586f",
   "metadata": {},
   "outputs": [],
   "source": [
    "def get_pitch(fs,x):\n",
    "    ms20=int((fs/50))\n",
    "    ms2=int(fs/500)\n",
    "\n",
    "    x=[i/32767 for i in x]\n",
    "\n",
    "    y=plt.acorr(x,maxlags=ms20,normed=True)\n",
    "\n",
    "    y=y[1]\n",
    "    z=y[round(len(y)/2):]\n",
    "    z=z[ms2:ms20]\n",
    "    zmax=max(z)\n",
    "\n",
    "    index=np.where(z==zmax)\n",
    "    index=index[0][0]\n",
    "\n",
    "    pitch=fs/(ms2+index+2)\n",
    "\n",
    "    return pitch"
   ]
  },
  {
   "cell_type": "code",
   "execution_count": 41,
   "id": "0b5cc03e",
   "metadata": {},
   "outputs": [],
   "source": [
    "import librosa\n",
    "\n",
    "def get_mfcc(y,sr):\n",
    "    y = librosa.resample(y, sr, 8000);\n",
    "    y = y[0:40000];\n",
    "    y = np.concatenate((y, [0]* (40000 - y.shape[0])), axis=0);\n",
    "    # Mel-frequency cepstral coefficients \n",
    "    mfcc=librosa.feature.mfcc(y=y, sr=sr, n_mfcc=10,hop_length=4000);\n",
    "    mfcc_feature=np.reshape(mfcc, (1,110))\n",
    "    return mfcc_feature"
   ]
  },
  {
   "cell_type": "code",
   "execution_count": 42,
   "id": "fd58d5ea",
   "metadata": {},
   "outputs": [],
   "source": [
    "import  scipy.io.wavfile as wav"
   ]
  },
  {
   "cell_type": "code",
   "execution_count": 43,
   "id": "3034ee3c",
   "metadata": {},
   "outputs": [],
   "source": [
    "def extract_features(path):\n",
    "    df = pd.DataFrame()\n",
    "    print('Extracting features')\n",
    "   \n",
    "    freq_col=['pitch']\n",
    "    mfcc_col=['mfcc'+str(i+1) for i in list(range(110))]\n",
    "    col = freq_col+mfcc_col\n",
    "\n",
    "    \n",
    "    directory=os.listdir(path)\n",
    "    print(directory)\n",
    "    for wav_file in directory:\n",
    "        write_features=[]\n",
    "        y, sr = librosa.load(os.path.join(path, wav_file))\n",
    "        fs, x = wav.read(os.path.join(path, wav_file))\n",
    "        \n",
    "        pitch=get_pitch(fs,x)\n",
    "        mfcc_features=get_mfcc(y,sr)\n",
    "        \n",
    "        write_features=[pitch]+mfcc_features.tolist()[0]\n",
    "        df = df.append([write_features])\n",
    "    df.columns = col\n",
    "    return df"
   ]
  },
  {
   "cell_type": "code",
   "execution_count": 44,
   "id": "8cb48457",
   "metadata": {},
   "outputs": [
    {
     "data": {
      "text/plain": [
       "['a0393.wav']"
      ]
     },
     "execution_count": 44,
     "metadata": {},
     "output_type": "execute_result"
    }
   ],
   "source": [
    "os.listdir(\"./recordings\")"
   ]
  },
  {
   "cell_type": "code",
   "execution_count": 45,
   "id": "2cc90d86",
   "metadata": {
    "scrolled": false
   },
   "outputs": [
    {
     "name": "stdout",
     "output_type": "stream",
     "text": [
      "Extracting features\n",
      "['a0393.wav']\n"
     ]
    },
    {
     "data": {
      "image/png": "[encoded data removed]",
      "text/plain": [
       "<Figure size 432x288 with 1 Axes>"
      ]
     },
     "metadata": {
      "needs_background": "light"
     },
     "output_type": "display_data"
    }
   ],
   "source": [
    "test_dataset = extract_features(\"./recordings\")"
   ]
  },
  {
   "cell_type": "code",
   "execution_count": 46,
   "id": "1185771b",
   "metadata": {},
   "outputs": [
    {
     "data": {
      "text/html": [
       "<div>\n",
       "<style scoped>\n",
       "    .dataframe tbody tr th:only-of-type {\n",
       "        vertical-align: middle;\n",
       "    }\n",
       "\n",
       "    .dataframe tbody tr th {\n",
       "        vertical-align: top;\n",
       "    }\n",
       "\n",
       "    .dataframe thead th {\n",
       "        text-align: right;\n",
       "    }\n",
       "</style>\n",
       "<table border=\"1\" class=\"dataframe\">\n",
       "  <thead>\n",
       "    <tr style=\"text-align: right;\">\n",
       "      <th></th>\n",
       "      <th>pitch</th>\n",
       "      <th>mfcc1</th>\n",
       "      <th>mfcc2</th>\n",
       "      <th>mfcc3</th>\n",
       "      <th>mfcc4</th>\n",
       "      <th>mfcc5</th>\n",
       "      <th>mfcc6</th>\n",
       "      <th>mfcc7</th>\n",
       "      <th>mfcc8</th>\n",
       "      <th>mfcc9</th>\n",
       "      <th>...</th>\n",
       "      <th>mfcc101</th>\n",
       "      <th>mfcc102</th>\n",
       "      <th>mfcc103</th>\n",
       "      <th>mfcc104</th>\n",
       "      <th>mfcc105</th>\n",
       "      <th>mfcc106</th>\n",
       "      <th>mfcc107</th>\n",
       "      <th>mfcc108</th>\n",
       "      <th>mfcc109</th>\n",
       "      <th>mfcc110</th>\n",
       "    </tr>\n",
       "  </thead>\n",
       "  <tbody>\n",
       "    <tr>\n",
       "      <th>0</th>\n",
       "      <td>186.046512</td>\n",
       "      <td>-643.75637</td>\n",
       "      <td>-636.450615</td>\n",
       "      <td>-197.802232</td>\n",
       "      <td>-250.978636</td>\n",
       "      <td>-158.156094</td>\n",
       "      <td>-217.914173</td>\n",
       "      <td>-336.4837</td>\n",
       "      <td>-658.563176</td>\n",
       "      <td>-749.073581</td>\n",
       "      <td>...</td>\n",
       "      <td>15.702925</td>\n",
       "      <td>23.412082</td>\n",
       "      <td>19.281851</td>\n",
       "      <td>36.671207</td>\n",
       "      <td>28.280941</td>\n",
       "      <td>29.222364</td>\n",
       "      <td>9.335564</td>\n",
       "      <td>0.0</td>\n",
       "      <td>0.0</td>\n",
       "      <td>0.0</td>\n",
       "    </tr>\n",
       "  </tbody>\n",
       "</table>\n",
       "<p>1 rows × 111 columns</p>\n",
       "</div>"
      ],
      "text/plain": [
       "        pitch      mfcc1       mfcc2       mfcc3       mfcc4       mfcc5  \\\n",
       "0  186.046512 -643.75637 -636.450615 -197.802232 -250.978636 -158.156094   \n",
       "\n",
       "        mfcc6     mfcc7       mfcc8       mfcc9  ...    mfcc101    mfcc102  \\\n",
       "0 -217.914173 -336.4837 -658.563176 -749.073581  ...  15.702925  23.412082   \n",
       "\n",
       "     mfcc103    mfcc104    mfcc105    mfcc106   mfcc107  mfcc108  mfcc109  \\\n",
       "0  19.281851  36.671207  28.280941  29.222364  9.335564      0.0      0.0   \n",
       "\n",
       "   mfcc110  \n",
       "0      0.0  \n",
       "\n",
       "[1 rows x 111 columns]"
      ]
     },
     "execution_count": 46,
     "metadata": {},
     "output_type": "execute_result"
    }
   ],
   "source": [
    "test_dataset"
   ]
  },
  {
   "cell_type": "code",
   "execution_count": 47,
   "id": "c26ff394",
   "metadata": {},
   "outputs": [],
   "source": [
    "original_dataset=pd.read_csv('datasets/features.csv')"
   ]
  },
  {
   "cell_type": "code",
   "execution_count": 56,
   "id": "f007e0ae",
   "metadata": {},
   "outputs": [],
   "source": [
    "pickle.dump(original_dataset, open(\"original_dataset.pkl\", \"wb\"))"
   ]
  },
  {
   "cell_type": "code",
   "execution_count": 48,
   "id": "cf786bb4",
   "metadata": {},
   "outputs": [
    {
     "data": {
      "text/plain": [
       "(7942, 113)"
      ]
     },
     "execution_count": 48,
     "metadata": {},
     "output_type": "execute_result"
    }
   ],
   "source": [
    "original_dataset.iloc[:, :].shape"
   ]
  },
  {
   "cell_type": "code",
   "execution_count": 49,
   "id": "c3bedd4f",
   "metadata": {},
   "outputs": [],
   "source": [
    "original_dataset=original_dataset.iloc[:,1:-1]"
   ]
  },
  {
   "cell_type": "code",
   "execution_count": 50,
   "id": "8b2abec9",
   "metadata": {},
   "outputs": [],
   "source": [
    "appended_dataset=original_dataset.append(test_dataset)"
   ]
  },
  {
   "cell_type": "code",
   "execution_count": 51,
   "id": "041f7252",
   "metadata": {},
   "outputs": [],
   "source": [
    "X = appended_dataset.iloc[:,:].values"
   ]
  },
  {
   "cell_type": "code",
   "execution_count": 52,
   "id": "046c98c0",
   "metadata": {},
   "outputs": [
    {
     "data": {
      "text/plain": [
       "(7943, 111)"
      ]
     },
     "execution_count": 52,
     "metadata": {},
     "output_type": "execute_result"
    }
   ],
   "source": [
    "X.shape"
   ]
  },
  {
   "cell_type": "code",
   "execution_count": 53,
   "id": "acb45ba7",
   "metadata": {
    "scrolled": true
   },
   "outputs": [],
   "source": [
    "#Taking care of missing data\n",
    "from sklearn.impute import SimpleImputer\n",
    "imputer = SimpleImputer(missing_values=0, strategy='most_frequent')          \n",
    "imputer = imputer.fit(X[:,:])\n",
    "X[:,:] = imputer.transform(X[:,:])"
   ]
  },
  {
   "cell_type": "code",
   "execution_count": 54,
   "id": "e6b7fe2b",
   "metadata": {},
   "outputs": [
    {
     "name": "stdout",
     "output_type": "stream",
     "text": [
      "Feature Scaling\n"
     ]
    }
   ],
   "source": [
    "print('Feature Scaling')\n",
    "# Feature Scaling\n",
    "from sklearn.preprocessing import StandardScaler\n",
    "sc = StandardScaler()\n",
    "X = sc.fit_transform(X)"
   ]
  },
  {
   "cell_type": "code",
   "execution_count": 55,
   "id": "2ac8254c",
   "metadata": {},
   "outputs": [
    {
     "name": "stdout",
     "output_type": "stream",
     "text": [
      "Predicting ...\n",
      "Female voice has been predicted\n"
     ]
    }
   ],
   "source": [
    "X_test=np.array(X[-1])\n",
    "X_test=X_test.reshape(1,111)\n",
    "\n",
    "print('Predicting ...')\n",
    "# Predicting the Test set results\n",
    "y_pred = model_rf.predict(X_test)\n",
    "\n",
    "if y_pred[0]==1:\n",
    "    print('Male voice has been predicted')\n",
    "else:\n",
    "    print('Female voice has been predicted')"
   ]
  },
  {
   "cell_type": "code",
   "execution_count": null,
   "id": "c017453d",
   "metadata": {},
   "outputs": [],
   "source": [
    "pickle.dump(original_dataset)"
   ]
  }
 ],
 "metadata": {
  "kernelspec": {
   "display_name": "Python 3 (ipykernel)",
   "language": "python",
   "name": "python3"
  },
  "language_info": {
   "codemirror_mode": {
    "name": "ipython",
    "version": 3
   },
   "file_extension": ".py",
   "mimetype": "text/x-python",
   "name": "python",
   "nbconvert_exporter": "python",
   "pygments_lexer": "ipython3",
   "version": "3.8.8"
  }
 },
 "nbformat": 4,
 "nbformat_minor": 5
}
